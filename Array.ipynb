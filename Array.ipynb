{
 "cells": [
  {
   "cell_type": "code",
   "execution_count": null,
   "id": "7f0f6930",
   "metadata": {},
   "outputs": [],
   "source": []
  },
  {
   "cell_type": "markdown",
   "id": "e040e003",
   "metadata": {},
   "source": [
    "## 88. Merge Sorted Array"
   ]
  },
  {
   "cell_type": "code",
   "execution_count": null,
   "id": "305efa55",
   "metadata": {},
   "outputs": [],
   "source": [
    "# given two lists nums1 and nums2, with length m+n and n respectively.\n",
    "# both nums1 and nums2 are sorted already\n",
    "# The intention is to get the first m items of nums1 and the first n items of nums2, \n",
    "# sort them in ascending order in nums1\n",
    "class Solution:\n",
    "    def merge(self, nums1: List[int], m: int, nums2: List[int], n: int) -> None:\n",
    "        \"\"\"\n",
    "        Do not return anything, modify nums1 in-place instead.\n",
    "        \"\"\"\n",
    "        \"\"\"\n",
    "        1. enumerate two lists' items from the end, and replace nums1's item, until there's no items\n",
    "        left for nums1 or nums2\n",
    "        2. !if there is still item left for nums1, then no problem because those item will be atomatically be \n",
    "        at the front of nums1; if there is item left for nums2, then need to put those at the start of nums1\n",
    "        \"\"\"\n"
   ]
  }
 ],
 "metadata": {
  "kernelspec": {
   "display_name": "Python 3 (ipykernel)",
   "language": "python",
   "name": "python3"
  },
  "language_info": {
   "codemirror_mode": {
    "name": "ipython",
    "version": 3
   },
   "file_extension": ".py",
   "mimetype": "text/x-python",
   "name": "python",
   "nbconvert_exporter": "python",
   "pygments_lexer": "ipython3",
   "version": "3.7.16"
  }
 },
 "nbformat": 4,
 "nbformat_minor": 5
}
