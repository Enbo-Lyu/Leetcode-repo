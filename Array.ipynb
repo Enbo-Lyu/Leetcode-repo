{
 "cells": [
  {
   "cell_type": "code",
   "execution_count": null,
   "id": "7f0f6930",
   "metadata": {},
   "outputs": [],
   "source": []
  },
  {
   "cell_type": "code",
   "execution_count": null,
   "id": "305efa55",
   "metadata": {},
   "outputs": [],
   "source": [
    "# 88. Merge Sorted Array \n",
    "# easy\n",
    "# given two lists nums1 and nums2, with length m+n and n respectively.\n",
    "# both nums1 and nums2 are sorted already\n",
    "# The intention is to get the first m items of nums1 and the first n items of nums2, \n",
    "# sort them in ascending order in nums1\n",
    "class Solution:\n",
    "    def merge(self, nums1: List[int], m: int, nums2: List[int], n: int) -> None:\n",
    "        \"\"\"\n",
    "        Do not return anything, modify nums1 in-place instead.\n",
    "        \"\"\"\n",
    "        \"\"\"\n",
    "        1. enumerate two lists' items from the end, and replace nums1's item, until there's no items\n",
    "        left for nums1 or nums2\n",
    "        2. !if there is still item left for nums1, then no problem because those item will be atomatically be \n",
    "        at the front of nums1; if there is item left for nums2, then need to put those at the start of nums1\n",
    "        \"\"\"\n",
    "        i = m - 1\n",
    "        j = n - 1\n",
    "        k = m + n - 1\n",
    "        while i >= 0 and j >= 0:\n",
    "            if nums1[i] > nums2[j]:\n",
    "                nums1[k] = nums1[i]\n",
    "                i -= 1\n",
    "            else:\n",
    "                nums1[k] = nums2[j]\n",
    "                j -= 1\n",
    "            k -= 1\n",
    "        while j >= 0:\n",
    "            nums1[k] = nums2[j]\n",
    "            j -= 1\n",
    "            k -= 1\n"
   ]
  },
  {
   "cell_type": "code",
   "execution_count": null,
   "id": "89ce3322",
   "metadata": {},
   "outputs": [],
   "source": [
    "# 27 Remove element\n",
    "# easy\n",
    "# Given an integer array nums and an integer val, remove all occurrences of val in nums in-place. The order of the elements may be changed. Then return the number of elements in nums which are not equal to val.\n",
    "\n",
    "# Consider the number of elements in nums which are not equal to val be k, to get accepted, you need to do the following things:\n",
    "\n",
    "# Change the array nums such that the first k elements of nums contain the elements which are not equal to val. The remaining elements of nums are not important as well as the size of nums.\n",
    "# Return k.\n",
    "class Solution:\n",
    "    def removeElement(self, nums: List[int], val: int) -> int:\n",
    "        \"\"\"\n",
    "        because this does not require the order of elements, \n",
    "        therefore it is ok to change the position of elements\n",
    "        \"\"\"\n",
    "        res = 0 # this \n",
    "        for i in range(len(nums)): \n",
    "            # this seems to iterate i, but res is actually recoding the items that are not equal with val\n",
    "            # if equal, then res will not move, so that res only moves when it meets value not equal to val,\n",
    "            # this makes sure that the values before res are all not equal to val\n",
    "            if nums[i] != val:\n",
    "                nums[res] = nums[i]\n",
    "                res += 1\n",
    "        return res\n",
    "        "
   ]
  },
  {
   "cell_type": "code",
   "execution_count": null,
   "id": "1d706f44",
   "metadata": {},
   "outputs": [],
   "source": [
    "# 26. Remove Duplicates from Sorted Array\n",
    "# easy\n",
    "\n",
    "# Given an integer array nums sorted in non-decreasing order, remove the duplicates in-place such that each unique element appears only once. The relative order of the elements should be kept the same. Then return the number of unique elements in nums.\n",
    "\n",
    "# Consider the number of unique elements of nums to be k, to get accepted, you need to do the following things:\n",
    "\n",
    "# Change the array nums such that the first k elements of nums contain the unique elements in the order they were present in nums initially. The remaining elements of nums are not important as well as the size of nums.\n",
    "# Return k.\n",
    "class Solution:\n",
    "    def removeDuplicates(self, nums: List[int]) -> int:\n",
    "        item_dict = {}\n",
    "        index = 0\n",
    "        for item in nums:\n",
    "            if item not in item_dict.keys():\n",
    "                item_dict[item] = 1\n",
    "                nums[index] = item\n",
    "                index += 1\n",
    "        return index\n",
    "                "
   ]
  }
 ],
 "metadata": {
  "kernelspec": {
   "display_name": "Python 3 (ipykernel)",
   "language": "python",
   "name": "python3"
  },
  "language_info": {
   "codemirror_mode": {
    "name": "ipython",
    "version": 3
   },
   "file_extension": ".py",
   "mimetype": "text/x-python",
   "name": "python",
   "nbconvert_exporter": "python",
   "pygments_lexer": "ipython3",
   "version": "3.7.16"
  }
 },
 "nbformat": 4,
 "nbformat_minor": 5
}
